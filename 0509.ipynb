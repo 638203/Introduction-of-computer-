{
  "nbformat": 4,
  "nbformat_minor": 0,
  "metadata": {
    "colab": {
      "name": "0509.ipynb",
      "provenance": [],
      "authorship_tag": "ABX9TyP8bPCYocy+6HstqsslAXCz",
      "include_colab_link": true
    },
    "kernelspec": {
      "name": "python3",
      "display_name": "Python 3"
    },
    "language_info": {
      "name": "python"
    }
  },
  "cells": [
    {
      "cell_type": "markdown",
      "metadata": {
        "id": "view-in-github",
        "colab_type": "text"
      },
      "source": [
        "<a href=\"https://colab.research.google.com/github/638203/Introduction-of-computer-/blob/main/0509.ipynb\" target=\"_parent\"><img src=\"https://colab.research.google.com/assets/colab-badge.svg\" alt=\"Open In Colab\"/></a>"
      ]
    },
    {
      "cell_type": "code",
      "execution_count": 1,
      "metadata": {
        "colab": {
          "base_uri": "https://localhost:8080/"
        },
        "id": "mPNIcmAA7pQk",
        "outputId": "788c0e33-7c31-4c91-af76-3d1fadf09071"
      },
      "outputs": [
        {
          "output_type": "stream",
          "name": "stdout",
          "text": [
            "123\n"
          ]
        }
      ],
      "source": [
        "print(\"123\")"
      ]
    },
    {
      "cell_type": "code",
      "source": [
        "temp=float(input(\"請輸入你的體溫\"))\n",
        "if temp >= 37.5:\n",
        "    print(\"體溫過高！\")\n",
        "elif temp >= 37 and temp < 37.4:\n",
        "    print(\"體溫略高！\")\n",
        "elif temp >= 34 and temp < 36.9:\n",
        "    print(\"體溫正常！\")\n",
        "else:\n",
        "    print(\"體溫異常,請重新量測！\")"
      ],
      "metadata": {
        "colab": {
          "base_uri": "https://localhost:8080/"
        },
        "id": "AcbMvo888eJH",
        "outputId": "85f524b2-4d91-444d-962b-f55cc89cbaa7"
      },
      "execution_count": 4,
      "outputs": [
        {
          "output_type": "stream",
          "name": "stdout",
          "text": [
            "請輸入你的體溫33.4\n",
            "體溫異常,請重新量測！\n"
          ]
        }
      ]
    },
    {
      "cell_type": "code",
      "source": [
        "score = input (\"請輸入成績\")\n",
        "if (int(score) >= 90):\n",
        "    print(\"A\")\n",
        "elif(int(score) >= 80):\n",
        "    print(\"B\")\n",
        "elif(int(score) >= 70):\n",
        "    print(\"C\")\n",
        "elif(int(score) >= 60):\n",
        "    print(\"D\")\n",
        "else:\n",
        "    print(\"E\")"
      ],
      "metadata": {
        "colab": {
          "base_uri": "https://localhost:8080/"
        },
        "id": "gLV0bGohD6lU",
        "outputId": "e3a30994-dbca-4272-95e7-b691dc90760f"
      },
      "execution_count": 5,
      "outputs": [
        {
          "output_type": "stream",
          "name": "stdout",
          "text": [
            "請輸入成績50\n",
            "E\n"
          ]
        }
      ]
    },
    {
      "cell_type": "code",
      "source": [
        "money = int(input(\"請輸入購物金額: \"))\n",
        "if (money >= 10000):\n",
        "  if(money >= 100000):\n",
        "    print(\"八折\",money * 0.8, end = \"元\\n\")\n",
        "  elif(money >= 50000):\n",
        "    print(\"八五折\",money * 0.85, end = \"元\\n\")\n",
        "  elif(money >= 30000):\n",
        "    print(\"九折\",money * 0.9, end = \"元\\n\")\n",
        "  else:\n",
        "    print(\"九五折\",money * 0.95, end = \"元\\n\")\n",
        "else:\n",
        "  print(\"沒打折\",money,end = \"元\\n\")"
      ],
      "metadata": {
        "colab": {
          "base_uri": "https://localhost:8080/"
        },
        "id": "8IRK4TjNE8d6",
        "outputId": "bf50764d-7ac9-485b-84d4-d74bdaed7575"
      },
      "execution_count": 7,
      "outputs": [
        {
          "output_type": "stream",
          "name": "stdout",
          "text": [
            "請輸入購物金額: 1200000\n",
            "八折 960000.0元\n"
          ]
        }
      ]
    },
    {
      "cell_type": "code",
      "source": [
        "x = int(input(\"請輸入月份:\"))\n",
        "if (x > 12 and x < 1):\n",
        "  if(x >= 3 and x < 6):\n",
        "    print(\"x月是春天！\")\n",
        "  elif(x >= 6 and x < 9):\n",
        "    print(\"x月是夏天！\")\n",
        "  elif(x >= 9 and x < 12):\n",
        "    print(\"x月是秋天！\")\n",
        "  elif(x >= 1 and x < 3 and x >= 12 and x < 13):\n",
        "    print(\"x月是冬天！\")\n",
        "else:\n",
        "    print(\"月份不在範圍內！\")"
      ],
      "metadata": {
        "colab": {
          "base_uri": "https://localhost:8080/"
        },
        "id": "G5PKlMFEJJME",
        "outputId": "46d27338-1d85-4cd9-a253-32d40fd24a00"
      },
      "execution_count": 21,
      "outputs": [
        {
          "output_type": "stream",
          "name": "stdout",
          "text": [
            "請輸入月份:3\n",
            "月份不在範圍內！\n"
          ]
        }
      ]
    },
    {
      "cell_type": "code",
      "source": [
        "money = int(input(\"請輸入收入:\"))\n",
        "if (money >= 300000):\n",
        "  if(money >= 2000000):\n",
        "    print(\"付稅金額:\",money * 0.3, end = \"元\\n\")\n",
        "  elif(money >= 1000000):\n",
        "    print(\"付稅金額:\",money * 0.21, end = \"元\\n\")\n",
        "  elif(money >= 600000):\n",
        "    print(\"付稅金額:\",money * 0.13, end = \"元\\n\")\n",
        "else:\n",
        "    print(\"付稅金額\",money * 0.06, end = \"元\\n\")"
      ],
      "metadata": {
        "colab": {
          "base_uri": "https://localhost:8080/"
        },
        "id": "UI8bb_94NQQd",
        "outputId": "6087b67b-9abf-4477-a966-ea934b36bbd2"
      },
      "execution_count": 23,
      "outputs": [
        {
          "output_type": "stream",
          "name": "stdout",
          "text": [
            "請輸入收入:2000000\n",
            "付稅金額: 600000.0元\n"
          ]
        }
      ]
    }
  ]
}