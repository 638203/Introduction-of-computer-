{
  "nbformat": 4,
  "nbformat_minor": 0,
  "metadata": {
    "colab": {
      "name": "410600224阮思瑤.ipynb",
      "provenance": [],
      "authorship_tag": "ABX9TyP4a35TjkVZIKbZ2VRb5Bx2",
      "include_colab_link": true
    },
    "kernelspec": {
      "name": "python3",
      "display_name": "Python 3"
    },
    "language_info": {
      "name": "python"
    }
  },
  "cells": [
    {
      "cell_type": "markdown",
      "metadata": {
        "id": "view-in-github",
        "colab_type": "text"
      },
      "source": [
        "<a href=\"https://colab.research.google.com/github/638203/Introduction-of-computer-/blob/main/410600224%E9%98%AE%E6%80%9D%E7%91%A4.ipynb\" target=\"_parent\"><img src=\"https://colab.research.google.com/assets/colab-badge.svg\" alt=\"Open In Colab\"/></a>"
      ]
    },
    {
      "cell_type": "code",
      "execution_count": null,
      "metadata": {
        "colab": {
          "base_uri": "https://localhost:8080/"
        },
        "id": "d92LN1IPAECx",
        "outputId": "129fb6fa-a029-4c91-83cb-6220bc514d23"
      },
      "outputs": [
        {
          "output_type": "stream",
          "name": "stdout",
          "text": [
            "126\n",
            "227\n",
            "101\n",
            "賺錢\n"
          ]
        }
      ],
      "source": [
        "expense  =  {\n",
        "    \"a\":  [20, 30, 55, 20],\n",
        "    \"b\":  [23, 35, 40, 28],\n",
        "    \"c\":  [33, 40, 50, 25]\n",
        "}\n",
        "revenue  =  {\n",
        "    \"a\":  [35, 22, 45, 30],\n",
        "    \"b\":  [44, 65, 60, 58],\n",
        "    \"c\":  [27, 46, 37, 30]\n",
        "}\n",
        "\n",
        "add_expense=0\n",
        "for  i  in  expense[\"b\"]:\n",
        "    add_expense+=i\n",
        "print(add_expense)\n",
        "\n",
        "add_revenue=0\n",
        "for  i  in  revenue[\"b\"]:\n",
        "    add_revenue+=i\n",
        "print(add_revenue)\n",
        "\n",
        "\n",
        "ans=add_revenue-add_expense\n",
        "print(ans)\n",
        "\n",
        "if  ans  >  0:\n",
        "    print('賺錢')\n",
        "elif  ans  <  0:\n",
        "    print('虧錢')\n",
        "else:\n",
        "    print('不賺不賠')"
      ]
    },
    {
      "cell_type": "code",
      "source": [
        ""
      ],
      "metadata": {
        "id": "yq25u4rbAwQ2"
      },
      "execution_count": null,
      "outputs": []
    }
  ]
}